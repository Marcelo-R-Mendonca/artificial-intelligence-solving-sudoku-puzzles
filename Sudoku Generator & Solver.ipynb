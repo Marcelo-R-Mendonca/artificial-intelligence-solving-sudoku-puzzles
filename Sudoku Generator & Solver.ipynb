{
 "cells": [
  {
   "cell_type": "markdown",
   "metadata": {},
   "source": [
    "# Sudoku Solver\n",
    "\n",
    "## Udacity Artificial Intelligence Nanodegree program\n",
    "\n"
   ]
  },
  {
   "cell_type": "markdown",
   "metadata": {},
   "source": [
    "### Part 1 - Generate the puzzle"
   ]
  },
  {
   "cell_type": "markdown",
   "metadata": {},
   "source": [
    "In this section, we will use BeautifulSoup to web scrape and return puzzles from a Sudoku website."
   ]
  },
  {
   "cell_type": "code",
   "execution_count": 1,
   "metadata": {
    "collapsed": true
   },
   "outputs": [],
   "source": [
    "from bs4 import BeautifulSoup\n",
    "import requests\n",
    "import random"
   ]
  },
  {
   "cell_type": "code",
   "execution_count": 2,
   "metadata": {
    "collapsed": true
   },
   "outputs": [],
   "source": [
    "def make_soup(level):\n",
    "    \"\"\" This function takes the puzzle difficulty level as an input and return a HTML soup \"\"\"\n",
    "    levels = {'Easy':1, 'Medium':2, 'Hard':3, 'Evil':4}\n",
    "    url = \"http://view.websudoku.com/?level={}\".format(levels[level])\n",
    "    response = requests.get(url)\n",
    "    html = response.text\n",
    "    return BeautifulSoup(html,'html.parser') "
   ]
  },
  {
   "cell_type": "code",
   "execution_count": 3,
   "metadata": {
    "collapsed": true
   },
   "outputs": [],
   "source": [
    "def build_puzzle_string(soup):\n",
    "    \"\"\" This function takes a HTML soup as an input and return a puzzle string \"\"\"\n",
    "    \n",
    "    grid = soup.find(id=\"puzzle_grid\") \n",
    "    puzzle_string = ''\n",
    "    \n",
    "    for elements in grid.find_all('td'):\n",
    "        for element in elements:\n",
    "            if element.get('value'):\n",
    "                puzzle_string += element.get('value')\n",
    "            else:\n",
    "                puzzle_string += '.'\n",
    "    return puzzle_string"
   ]
  },
  {
   "cell_type": "code",
   "execution_count": 4,
   "metadata": {
    "collapsed": true
   },
   "outputs": [],
   "source": [
    "def get_puzzle(level):\n",
    "    \"\"\" This function takes the puzzle difficulty level as an input and return the puzzle string \"\"\"\n",
    "    soup = make_soup(level)\n",
    "    return build_puzzle_string(soup)"
   ]
  },
  {
   "cell_type": "markdown",
   "metadata": {},
   "source": [
    "### Part 2 - Solving the puzzle"
   ]
  },
  {
   "cell_type": "markdown",
   "metadata": {},
   "source": [
    "### Definitions:\n",
    "\n",
    "**Boxes, Units and Peers**\n",
    "\n",
    "* The individual squares at the intersection of rows and columns will be called boxes. These boxes will have labels 'A1', 'A2', ..., 'I9'.\n",
    "\n",
    "* The complete rows, columns, and 3x3 squares, will be called units. Thus, each unit is a set of 9 boxes, and there are 27 units in total.\n",
    "\n",
    "* For a particular box (such as 'A1'), its peers will be all other boxes that belong to a common unit (namely, those that belong to the same row, column, or 3x3 square)."
   ]
  },
  {
   "cell_type": "code",
   "execution_count": 5,
   "metadata": {
    "collapsed": true
   },
   "outputs": [],
   "source": [
    "rows = 'ABCDEFGHI'\n",
    "cols = '123456789'"
   ]
  },
  {
   "cell_type": "code",
   "execution_count": 6,
   "metadata": {
    "collapsed": true
   },
   "outputs": [],
   "source": [
    "def cross(a,b):\n",
    "    return [s+t for s in a for t in b]"
   ]
  },
  {
   "cell_type": "code",
   "execution_count": 7,
   "metadata": {
    "collapsed": true
   },
   "outputs": [],
   "source": [
    "row_units = [cross(r, cols) for r in rows]\n",
    "#print(row_units)"
   ]
  },
  {
   "cell_type": "code",
   "execution_count": 8,
   "metadata": {
    "collapsed": true,
    "scrolled": true
   },
   "outputs": [],
   "source": [
    "column_units = [cross(rows, c) for c in cols]\n",
    "#print(column_units)"
   ]
  },
  {
   "cell_type": "code",
   "execution_count": 9,
   "metadata": {
    "collapsed": true
   },
   "outputs": [],
   "source": [
    "square_units = [cross(rs, cs) for rs in ('ABC','DEF','GHI') for cs in ('123','456','789')]\n",
    "#print(square_units)"
   ]
  },
  {
   "cell_type": "code",
   "execution_count": 10,
   "metadata": {
    "collapsed": true
   },
   "outputs": [],
   "source": [
    "unitlist = row_units + column_units + square_units\n",
    "#print(unitlist)"
   ]
  },
  {
   "cell_type": "code",
   "execution_count": 11,
   "metadata": {
    "collapsed": true
   },
   "outputs": [],
   "source": [
    "boxes = (cross(rows,cols))"
   ]
  },
  {
   "cell_type": "code",
   "execution_count": 12,
   "metadata": {
    "collapsed": true
   },
   "outputs": [],
   "source": [
    "units = dict((s, [u for u in unitlist if s in u]) for s in boxes)"
   ]
  },
  {
   "cell_type": "code",
   "execution_count": 13,
   "metadata": {
    "collapsed": true
   },
   "outputs": [],
   "source": [
    "peers = dict((s, set(sum(units[s],[]))-set([s])) for s in boxes)"
   ]
  },
  {
   "cell_type": "code",
   "execution_count": 14,
   "metadata": {
    "collapsed": true
   },
   "outputs": [],
   "source": [
    "def replace_dots(grid_string):\n",
    "    \n",
    "    assert len(grid_string) == 81, \"Invalid number of elements in string.\"\n",
    "    \n",
    "    return ['123456789' if x=='.' else x for x in grid_string] "
   ]
  },
  {
   "cell_type": "code",
   "execution_count": 15,
   "metadata": {
    "collapsed": true
   },
   "outputs": [],
   "source": [
    "def grid_values(grid_string):\n",
    "    \n",
    "    assert len(grid_string) == 81, \"Invalid number of elements in string.\"\n",
    "       \n",
    "    return dict(zip(boxes, grid_string))   "
   ]
  },
  {
   "cell_type": "code",
   "execution_count": 16,
   "metadata": {
    "collapsed": true
   },
   "outputs": [],
   "source": [
    "def display(values):\n",
    "    \"\"\"\n",
    "    Display the values as a 2-D grid.\n",
    "    Input: The sudoku in dictionary form\n",
    "    Output: None\n",
    "    \"\"\"\n",
    "    width = 1+max(len(values[s]) for s in boxes)\n",
    "    line = '+'.join(['-'*(width*3)]*3)\n",
    "    for r in rows:\n",
    "        print(''.join(values[r+c].center(width)+('|' if c in '36' else '')\n",
    "                      for c in cols))\n",
    "        if r in 'CF': print(line)\n",
    "    return"
   ]
  },
  {
   "cell_type": "code",
   "execution_count": 17,
   "metadata": {
    "collapsed": true
   },
   "outputs": [],
   "source": [
    "def eliminate(values):\n",
    "    \n",
    "    for key, value in values.items():\n",
    "        if len(value) == 1:\n",
    "            for peer in peers[key]:\n",
    "                values[peer] = values[peer].replace(value,'') \n",
    "    return values   \n",
    "    "
   ]
  },
  {
   "cell_type": "code",
   "execution_count": 18,
   "metadata": {
    "collapsed": true
   },
   "outputs": [],
   "source": [
    "def only_choice(values):\n",
    "    \n",
    "    for unit in unitlist:\n",
    "        for digit in '123456789':\n",
    "            dplaces = [box for box in unit if digit in values[box]]\n",
    "            if len(dplaces) == 1:\n",
    "                values[dplaces[0]] = digit\n",
    "    return values"
   ]
  },
  {
   "cell_type": "code",
   "execution_count": 19,
   "metadata": {
    "collapsed": true
   },
   "outputs": [],
   "source": [
    "def reduce_puzzle(values):\n",
    "    \"\"\"\n",
    "    Iterate eliminate() and only_choice(). If at some point, there is a box with no available values, return False.\n",
    "    If the sudoku is solved, return the sudoku.\n",
    "    If after an iteration of both functions, the sudoku remains the same, return the sudoku.\n",
    "    Input: A sudoku in dictionary form.\n",
    "    Output: The resulting sudoku in dictionary form.\n",
    "    \"\"\"\n",
    "    stalled = False\n",
    "    while not stalled:\n",
    "        # Check how many boxes have a determined value\n",
    "        solved_values_before = len([box for box in values.keys() if len(values[box]) == 1])\n",
    "        # Use the Eliminate Strategy\n",
    "        values = eliminate(values)\n",
    "        # Use the Only Choice Strategy\n",
    "        values = only_choice(values)\n",
    "        # Check how many boxes have a determined value, to compare\n",
    "        solved_values_after = len([box for box in values.keys() if len(values[box]) == 1])\n",
    "        # If no new values were added, stop the loop.\n",
    "        stalled = solved_values_before == solved_values_after\n",
    "        # Sanity check, return False if there is a box with zero available values:\n",
    "        if len([box for box in values.keys() if len(values[box]) == 0]):\n",
    "            return False\n",
    "    return values"
   ]
  },
  {
   "cell_type": "code",
   "execution_count": 20,
   "metadata": {
    "collapsed": true
   },
   "outputs": [],
   "source": [
    "def depth_first_search(values):\n",
    "    # Reduce the puzzle \n",
    "    values = reduce_puzzle(values)\n",
    "    \n",
    "    if values is False:\n",
    "        return False ## Failed earlier\n",
    "    \n",
    "    if all(len(values[s]) == 1 for s in boxes): \n",
    "        return values ## Solved!\n",
    "    \n",
    "    # Choose one of the unfilled squares with the fewest possibilities\n",
    "    n,s = min((len(values[s]), s) for s in boxes if len(values[s]) > 1)\n",
    "    \n",
    "    # Now use recurrence to solve each one of the resulting sudokus, and \n",
    "    for value in values[s]:\n",
    "        new_sudoku = values.copy()\n",
    "        new_sudoku[s] = value\n",
    "        attempt = depth_first_search(new_sudoku)\n",
    "        if attempt:\n",
    "            return attempt"
   ]
  },
  {
   "cell_type": "markdown",
   "metadata": {},
   "source": [
    "### Testing"
   ]
  },
  {
   "cell_type": "markdown",
   "metadata": {},
   "source": [
    "This section will randomly select a puzzle difficulty level, get the puzzle from the internet, solve the puzzle and print the results."
   ]
  },
  {
   "cell_type": "code",
   "execution_count": 33,
   "metadata": {},
   "outputs": [
    {
     "name": "stdout",
     "output_type": "stream",
     "text": [
      "\n",
      "Here is the Medium Level puzzle:\n",
      ". . . |. 6 . |. . 9 \n",
      ". 9 . |4 . . |. 7 2 \n",
      ". . 1 |. 5 9 |8 3 . \n",
      "------+------+------\n",
      ". 6 9 |. 8 . |7 . . \n",
      ". . . |. 3 . |. . . \n",
      ". . 3 |. 4 . |9 2 . \n",
      "------+------+------\n",
      ". 5 4 |3 2 . |1 . . \n",
      "1 7 . |. . 5 |. 4 . \n",
      "8 . . |. 7 . |. . . \n",
      "\n",
      "Here is the solution for the Medium Level puzzle:\n",
      "3 4 7 |8 6 2 |5 1 9 \n",
      "5 9 8 |4 1 3 |6 7 2 \n",
      "6 2 1 |7 5 9 |8 3 4 \n",
      "------+------+------\n",
      "4 6 9 |2 8 1 |7 5 3 \n",
      "2 1 5 |9 3 7 |4 8 6 \n",
      "7 8 3 |5 4 6 |9 2 1 \n",
      "------+------+------\n",
      "9 5 4 |3 2 8 |1 6 7 \n",
      "1 7 2 |6 9 5 |3 4 8 \n",
      "8 3 6 |1 7 4 |2 9 5 \n"
     ]
    }
   ],
   "source": [
    "difficulty_list = [\"Easy\", \"Medium\",\"Hard\", \"Evil\"]  \n",
    "\n",
    "selected_difficulty = random.choice(difficulty_list)\n",
    "puzzle = get_puzzle(selected_difficulty)\n",
    "\n",
    "print(\"\\nHere is the \" + selected_difficulty + \" Level puzzle:\")\n",
    "display(grid_values(puzzle))\n",
    "\n",
    "print(\"\\nHere is the solution for the \" + selected_difficulty + \" Level puzzle:\")\n",
    "display(depth_first_search(grid_values(replace_dots(puzzle))))"
   ]
  }
 ],
 "metadata": {
  "kernelspec": {
   "display_name": "Python 3",
   "language": "python",
   "name": "python3"
  },
  "language_info": {
   "codemirror_mode": {
    "name": "ipython",
    "version": 3
   },
   "file_extension": ".py",
   "mimetype": "text/x-python",
   "name": "python",
   "nbconvert_exporter": "python",
   "pygments_lexer": "ipython3",
   "version": "3.6.1"
  }
 },
 "nbformat": 4,
 "nbformat_minor": 2
}
